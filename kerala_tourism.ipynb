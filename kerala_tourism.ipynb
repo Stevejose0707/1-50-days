{
  "cells": [
    {
      "cell_type": "markdown",
      "metadata": {
        "id": "view-in-github",
        "colab_type": "text"
      },
      "source": [
        "<a href=\"https://colab.research.google.com/github/Stevejose0707/1-50-days/blob/main/kerala_tourism.ipynb\" target=\"_parent\"><img src=\"https://colab.research.google.com/assets/colab-badge.svg\" alt=\"Open In Colab\"/></a>"
      ]
    },
    {
      "cell_type": "code",
      "execution_count": null,
      "metadata": {
        "id": "h2JtSgzPBRhC",
        "outputId": "b53893d6-6615-429c-9671-465fc22ca705"
      },
      "outputs": [
        {
          "data": {
            "text/html": [
              "<div>\n",
              "<style scoped>\n",
              "    .dataframe tbody tr th:only-of-type {\n",
              "        vertical-align: middle;\n",
              "    }\n",
              "\n",
              "    .dataframe tbody tr th {\n",
              "        vertical-align: top;\n",
              "    }\n",
              "\n",
              "    .dataframe thead th {\n",
              "        text-align: right;\n",
              "    }\n",
              "</style>\n",
              "<table border=\"1\" class=\"dataframe\">\n",
              "  <thead>\n",
              "    <tr style=\"text-align: right;\">\n",
              "      <th></th>\n",
              "      <th>ID</th>\n",
              "      <th>Destination</th>\n",
              "      <th>Region</th>\n",
              "      <th>Tourist Type</th>\n",
              "      <th>Rating</th>\n",
              "      <th>Price Range</th>\n",
              "      <th>Accessibility</th>\n",
              "      <th>Best Season</th>\n",
              "      <th>Popularity</th>\n",
              "      <th>recommendation</th>\n",
              "    </tr>\n",
              "  </thead>\n",
              "  <tbody>\n",
              "    <tr>\n",
              "      <th>0</th>\n",
              "      <td>1</td>\n",
              "      <td>Munnar</td>\n",
              "      <td>Central</td>\n",
              "      <td>Family</td>\n",
              "      <td>4.5</td>\n",
              "      <td>Medium</td>\n",
              "      <td>Yes</td>\n",
              "      <td>Winter</td>\n",
              "      <td>High</td>\n",
              "      <td>Not Advised</td>\n",
              "    </tr>\n",
              "    <tr>\n",
              "      <th>1</th>\n",
              "      <td>2</td>\n",
              "      <td>Alappuzha</td>\n",
              "      <td>Southern</td>\n",
              "      <td>Solo</td>\n",
              "      <td>4.7</td>\n",
              "      <td>High</td>\n",
              "      <td>Yes</td>\n",
              "      <td>Winter</td>\n",
              "      <td>High</td>\n",
              "      <td>Not Advised</td>\n",
              "    </tr>\n",
              "    <tr>\n",
              "      <th>2</th>\n",
              "      <td>3</td>\n",
              "      <td>Kovalam</td>\n",
              "      <td>Southern</td>\n",
              "      <td>Family</td>\n",
              "      <td>4.2</td>\n",
              "      <td>High</td>\n",
              "      <td>Yes</td>\n",
              "      <td>Winter</td>\n",
              "      <td>Medium</td>\n",
              "      <td>Not Advised</td>\n",
              "    </tr>\n",
              "    <tr>\n",
              "      <th>3</th>\n",
              "      <td>4</td>\n",
              "      <td>Wayanad</td>\n",
              "      <td>Central</td>\n",
              "      <td>Adventure</td>\n",
              "      <td>4.6</td>\n",
              "      <td>Medium</td>\n",
              "      <td>Yes</td>\n",
              "      <td>Monsoon</td>\n",
              "      <td>High</td>\n",
              "      <td>Not Advised</td>\n",
              "    </tr>\n",
              "    <tr>\n",
              "      <th>4</th>\n",
              "      <td>5</td>\n",
              "      <td>Thekkady</td>\n",
              "      <td>Central</td>\n",
              "      <td>Family</td>\n",
              "      <td>4.3</td>\n",
              "      <td>Medium</td>\n",
              "      <td>Yes</td>\n",
              "      <td>Winter</td>\n",
              "      <td>Medium</td>\n",
              "      <td>Not Advised</td>\n",
              "    </tr>\n",
              "    <tr>\n",
              "      <th>...</th>\n",
              "      <td>...</td>\n",
              "      <td>...</td>\n",
              "      <td>...</td>\n",
              "      <td>...</td>\n",
              "      <td>...</td>\n",
              "      <td>...</td>\n",
              "      <td>...</td>\n",
              "      <td>...</td>\n",
              "      <td>...</td>\n",
              "      <td>...</td>\n",
              "    </tr>\n",
              "    <tr>\n",
              "      <th>95</th>\n",
              "      <td>96</td>\n",
              "      <td>Punalur</td>\n",
              "      <td>Southern</td>\n",
              "      <td>Solo</td>\n",
              "      <td>4.4</td>\n",
              "      <td>Low</td>\n",
              "      <td>Yes</td>\n",
              "      <td>Winter</td>\n",
              "      <td>Medium</td>\n",
              "      <td>Not Advised</td>\n",
              "    </tr>\n",
              "    <tr>\n",
              "      <th>96</th>\n",
              "      <td>97</td>\n",
              "      <td>Nanda Devi</td>\n",
              "      <td>Central</td>\n",
              "      <td>Family</td>\n",
              "      <td>4.1</td>\n",
              "      <td>Low</td>\n",
              "      <td>Yes</td>\n",
              "      <td>Monsoon</td>\n",
              "      <td>Low</td>\n",
              "      <td>Not Advised</td>\n",
              "    </tr>\n",
              "    <tr>\n",
              "      <th>97</th>\n",
              "      <td>98</td>\n",
              "      <td>Aranmula</td>\n",
              "      <td>Central</td>\n",
              "      <td>Family</td>\n",
              "      <td>4.8</td>\n",
              "      <td>High</td>\n",
              "      <td>Yes</td>\n",
              "      <td>Winter</td>\n",
              "      <td>High</td>\n",
              "      <td>Not Advised</td>\n",
              "    </tr>\n",
              "    <tr>\n",
              "      <th>98</th>\n",
              "      <td>99</td>\n",
              "      <td>Perumbavoor</td>\n",
              "      <td>Northern</td>\n",
              "      <td>Solo</td>\n",
              "      <td>4.3</td>\n",
              "      <td>Medium</td>\n",
              "      <td>Yes</td>\n",
              "      <td>Winter</td>\n",
              "      <td>Low</td>\n",
              "      <td>Not Advised</td>\n",
              "    </tr>\n",
              "    <tr>\n",
              "      <th>99</th>\n",
              "      <td>100</td>\n",
              "      <td>Vazhachal Falls</td>\n",
              "      <td>Northern</td>\n",
              "      <td>Adventure</td>\n",
              "      <td>4.5</td>\n",
              "      <td>Medium</td>\n",
              "      <td>Yes</td>\n",
              "      <td>Monsoon</td>\n",
              "      <td>Medium</td>\n",
              "      <td>Not Advised</td>\n",
              "    </tr>\n",
              "  </tbody>\n",
              "</table>\n",
              "<p>100 rows × 10 columns</p>\n",
              "</div>"
            ],
            "text/plain": [
              "     ID      Destination    Region Tourist Type  Rating Price Range  \\\n",
              "0     1           Munnar   Central       Family     4.5      Medium   \n",
              "1     2        Alappuzha  Southern         Solo     4.7        High   \n",
              "2     3          Kovalam  Southern       Family     4.2        High   \n",
              "3     4          Wayanad   Central    Adventure     4.6      Medium   \n",
              "4     5         Thekkady   Central       Family     4.3      Medium   \n",
              "..  ...              ...       ...          ...     ...         ...   \n",
              "95   96          Punalur  Southern         Solo     4.4         Low   \n",
              "96   97       Nanda Devi   Central       Family     4.1         Low   \n",
              "97   98         Aranmula   Central       Family     4.8        High   \n",
              "98   99      Perumbavoor  Northern         Solo     4.3      Medium   \n",
              "99  100  Vazhachal Falls  Northern    Adventure     4.5      Medium   \n",
              "\n",
              "   Accessibility Best Season Popularity recommendation  \n",
              "0            Yes      Winter       High    Not Advised  \n",
              "1            Yes      Winter       High    Not Advised  \n",
              "2            Yes      Winter     Medium    Not Advised  \n",
              "3            Yes     Monsoon       High    Not Advised  \n",
              "4            Yes      Winter     Medium    Not Advised  \n",
              "..           ...         ...        ...            ...  \n",
              "95           Yes      Winter     Medium    Not Advised  \n",
              "96           Yes     Monsoon        Low    Not Advised  \n",
              "97           Yes      Winter       High    Not Advised  \n",
              "98           Yes      Winter        Low    Not Advised  \n",
              "99           Yes     Monsoon     Medium    Not Advised  \n",
              "\n",
              "[100 rows x 10 columns]"
            ]
          },
          "execution_count": 17,
          "metadata": {},
          "output_type": "execute_result"
        }
      ],
      "source": [
        "import pandas as pd\n",
        "import numpy as np\n",
        "df=pd.read_csv(\"C:\\\\Users\\\\Steve Jose\\\\Downloads\\\\Kerala_Tourism_Data_with_recommendation.csv\")\n",
        "df\n",
        "\n",
        "\n"
      ]
    },
    {
      "cell_type": "code",
      "execution_count": null,
      "metadata": {
        "id": "aI3-q94lBRhD",
        "outputId": "4dfd90d3-cc5e-46dc-e59d-5d88e1cc7117"
      },
      "outputs": [
        {
          "data": {
            "text/html": [
              "<div>\n",
              "<style scoped>\n",
              "    .dataframe tbody tr th:only-of-type {\n",
              "        vertical-align: middle;\n",
              "    }\n",
              "\n",
              "    .dataframe tbody tr th {\n",
              "        vertical-align: top;\n",
              "    }\n",
              "\n",
              "    .dataframe thead th {\n",
              "        text-align: right;\n",
              "    }\n",
              "</style>\n",
              "<table border=\"1\" class=\"dataframe\">\n",
              "  <thead>\n",
              "    <tr style=\"text-align: right;\">\n",
              "      <th></th>\n",
              "      <th>ID</th>\n",
              "      <th>Destination</th>\n",
              "      <th>Region</th>\n",
              "      <th>Tourist Type</th>\n",
              "      <th>Rating</th>\n",
              "      <th>Price Range</th>\n",
              "      <th>Accessibility</th>\n",
              "      <th>Best Season</th>\n",
              "      <th>Popularity</th>\n",
              "      <th>recommendation</th>\n",
              "    </tr>\n",
              "  </thead>\n",
              "  <tbody>\n",
              "    <tr>\n",
              "      <th>0</th>\n",
              "      <td>1</td>\n",
              "      <td>Munnar</td>\n",
              "      <td>Central</td>\n",
              "      <td>Family</td>\n",
              "      <td>4.5</td>\n",
              "      <td>Medium</td>\n",
              "      <td>Yes</td>\n",
              "      <td>Winter</td>\n",
              "      <td>High</td>\n",
              "      <td>Not Advised</td>\n",
              "    </tr>\n",
              "    <tr>\n",
              "      <th>1</th>\n",
              "      <td>2</td>\n",
              "      <td>Alappuzha</td>\n",
              "      <td>Southern</td>\n",
              "      <td>Solo</td>\n",
              "      <td>4.7</td>\n",
              "      <td>High</td>\n",
              "      <td>Yes</td>\n",
              "      <td>Winter</td>\n",
              "      <td>High</td>\n",
              "      <td>Not Advised</td>\n",
              "    </tr>\n",
              "    <tr>\n",
              "      <th>2</th>\n",
              "      <td>3</td>\n",
              "      <td>Kovalam</td>\n",
              "      <td>Southern</td>\n",
              "      <td>Family</td>\n",
              "      <td>4.2</td>\n",
              "      <td>High</td>\n",
              "      <td>Yes</td>\n",
              "      <td>Winter</td>\n",
              "      <td>Medium</td>\n",
              "      <td>Not Advised</td>\n",
              "    </tr>\n",
              "    <tr>\n",
              "      <th>3</th>\n",
              "      <td>4</td>\n",
              "      <td>Wayanad</td>\n",
              "      <td>Central</td>\n",
              "      <td>Adventure</td>\n",
              "      <td>4.6</td>\n",
              "      <td>Medium</td>\n",
              "      <td>Yes</td>\n",
              "      <td>Monsoon</td>\n",
              "      <td>High</td>\n",
              "      <td>Not Advised</td>\n",
              "    </tr>\n",
              "    <tr>\n",
              "      <th>4</th>\n",
              "      <td>5</td>\n",
              "      <td>Thekkady</td>\n",
              "      <td>Central</td>\n",
              "      <td>Family</td>\n",
              "      <td>4.3</td>\n",
              "      <td>Medium</td>\n",
              "      <td>Yes</td>\n",
              "      <td>Winter</td>\n",
              "      <td>Medium</td>\n",
              "      <td>Not Advised</td>\n",
              "    </tr>\n",
              "  </tbody>\n",
              "</table>\n",
              "</div>"
            ],
            "text/plain": [
              "   ID Destination    Region Tourist Type  Rating Price Range Accessibility  \\\n",
              "0   1      Munnar   Central       Family     4.5      Medium           Yes   \n",
              "1   2   Alappuzha  Southern         Solo     4.7        High           Yes   \n",
              "2   3     Kovalam  Southern       Family     4.2        High           Yes   \n",
              "3   4     Wayanad   Central    Adventure     4.6      Medium           Yes   \n",
              "4   5    Thekkady   Central       Family     4.3      Medium           Yes   \n",
              "\n",
              "  Best Season Popularity recommendation  \n",
              "0      Winter       High    Not Advised  \n",
              "1      Winter       High    Not Advised  \n",
              "2      Winter     Medium    Not Advised  \n",
              "3     Monsoon       High    Not Advised  \n",
              "4      Winter     Medium    Not Advised  "
            ]
          },
          "execution_count": 18,
          "metadata": {},
          "output_type": "execute_result"
        }
      ],
      "source": [
        "df.head()"
      ]
    },
    {
      "cell_type": "code",
      "execution_count": null,
      "metadata": {
        "id": "0D9TQMtvBRhD",
        "outputId": "d452d1c3-4ac2-4bda-a44c-1625915257cb"
      },
      "outputs": [
        {
          "data": {
            "text/html": [
              "<div>\n",
              "<style scoped>\n",
              "    .dataframe tbody tr th:only-of-type {\n",
              "        vertical-align: middle;\n",
              "    }\n",
              "\n",
              "    .dataframe tbody tr th {\n",
              "        vertical-align: top;\n",
              "    }\n",
              "\n",
              "    .dataframe thead th {\n",
              "        text-align: right;\n",
              "    }\n",
              "</style>\n",
              "<table border=\"1\" class=\"dataframe\">\n",
              "  <thead>\n",
              "    <tr style=\"text-align: right;\">\n",
              "      <th></th>\n",
              "      <th>ID</th>\n",
              "      <th>Destination</th>\n",
              "      <th>Region</th>\n",
              "      <th>Tourist Type</th>\n",
              "      <th>Rating</th>\n",
              "      <th>Price Range</th>\n",
              "      <th>Accessibility</th>\n",
              "      <th>Best Season</th>\n",
              "      <th>Popularity</th>\n",
              "      <th>recommendation</th>\n",
              "    </tr>\n",
              "  </thead>\n",
              "  <tbody>\n",
              "    <tr>\n",
              "      <th>95</th>\n",
              "      <td>96</td>\n",
              "      <td>Punalur</td>\n",
              "      <td>Southern</td>\n",
              "      <td>Solo</td>\n",
              "      <td>4.4</td>\n",
              "      <td>Low</td>\n",
              "      <td>Yes</td>\n",
              "      <td>Winter</td>\n",
              "      <td>Medium</td>\n",
              "      <td>Not Advised</td>\n",
              "    </tr>\n",
              "    <tr>\n",
              "      <th>96</th>\n",
              "      <td>97</td>\n",
              "      <td>Nanda Devi</td>\n",
              "      <td>Central</td>\n",
              "      <td>Family</td>\n",
              "      <td>4.1</td>\n",
              "      <td>Low</td>\n",
              "      <td>Yes</td>\n",
              "      <td>Monsoon</td>\n",
              "      <td>Low</td>\n",
              "      <td>Not Advised</td>\n",
              "    </tr>\n",
              "    <tr>\n",
              "      <th>97</th>\n",
              "      <td>98</td>\n",
              "      <td>Aranmula</td>\n",
              "      <td>Central</td>\n",
              "      <td>Family</td>\n",
              "      <td>4.8</td>\n",
              "      <td>High</td>\n",
              "      <td>Yes</td>\n",
              "      <td>Winter</td>\n",
              "      <td>High</td>\n",
              "      <td>Not Advised</td>\n",
              "    </tr>\n",
              "    <tr>\n",
              "      <th>98</th>\n",
              "      <td>99</td>\n",
              "      <td>Perumbavoor</td>\n",
              "      <td>Northern</td>\n",
              "      <td>Solo</td>\n",
              "      <td>4.3</td>\n",
              "      <td>Medium</td>\n",
              "      <td>Yes</td>\n",
              "      <td>Winter</td>\n",
              "      <td>Low</td>\n",
              "      <td>Not Advised</td>\n",
              "    </tr>\n",
              "    <tr>\n",
              "      <th>99</th>\n",
              "      <td>100</td>\n",
              "      <td>Vazhachal Falls</td>\n",
              "      <td>Northern</td>\n",
              "      <td>Adventure</td>\n",
              "      <td>4.5</td>\n",
              "      <td>Medium</td>\n",
              "      <td>Yes</td>\n",
              "      <td>Monsoon</td>\n",
              "      <td>Medium</td>\n",
              "      <td>Not Advised</td>\n",
              "    </tr>\n",
              "  </tbody>\n",
              "</table>\n",
              "</div>"
            ],
            "text/plain": [
              "     ID      Destination    Region Tourist Type  Rating Price Range  \\\n",
              "95   96          Punalur  Southern         Solo     4.4         Low   \n",
              "96   97       Nanda Devi   Central       Family     4.1         Low   \n",
              "97   98         Aranmula   Central       Family     4.8        High   \n",
              "98   99      Perumbavoor  Northern         Solo     4.3      Medium   \n",
              "99  100  Vazhachal Falls  Northern    Adventure     4.5      Medium   \n",
              "\n",
              "   Accessibility Best Season Popularity recommendation  \n",
              "95           Yes      Winter     Medium    Not Advised  \n",
              "96           Yes     Monsoon        Low    Not Advised  \n",
              "97           Yes      Winter       High    Not Advised  \n",
              "98           Yes      Winter        Low    Not Advised  \n",
              "99           Yes     Monsoon     Medium    Not Advised  "
            ]
          },
          "execution_count": 19,
          "metadata": {},
          "output_type": "execute_result"
        }
      ],
      "source": [
        "df.tail()"
      ]
    },
    {
      "cell_type": "code",
      "execution_count": null,
      "metadata": {
        "id": "EHtsJBOFBRhD",
        "outputId": "2921af89-77d1-4461-b936-0d6adf88e77e"
      },
      "outputs": [
        {
          "data": {
            "text/plain": [
              "ID                  int64\n",
              "Destination        object\n",
              "Region             object\n",
              "Tourist Type       object\n",
              "Rating            float64\n",
              "Price Range        object\n",
              "Accessibility      object\n",
              "Best Season        object\n",
              "Popularity         object\n",
              "recommendation     object\n",
              "dtype: object"
            ]
          },
          "execution_count": 20,
          "metadata": {},
          "output_type": "execute_result"
        }
      ],
      "source": [
        "df.dtypes"
      ]
    },
    {
      "cell_type": "code",
      "execution_count": null,
      "metadata": {
        "id": "XNKGvGgLBRhD",
        "outputId": "809d56ca-d7bb-416a-baa3-f1048001400d"
      },
      "outputs": [
        {
          "data": {
            "text/plain": [
              "Index(['ID', 'Destination', 'Region', 'Tourist Type', 'Rating', 'Price Range',\n",
              "       'Accessibility', 'Best Season', 'Popularity', 'recommendation'],\n",
              "      dtype='object')"
            ]
          },
          "execution_count": 21,
          "metadata": {},
          "output_type": "execute_result"
        }
      ],
      "source": [
        "df.columns"
      ]
    },
    {
      "cell_type": "code",
      "execution_count": null,
      "metadata": {
        "id": "RrjsdxEUBRhE",
        "outputId": "daffd8bb-dc0c-4d58-a834-0a70c82e553c"
      },
      "outputs": [
        {
          "data": {
            "text/plain": [
              "<bound method DataFrame.info of      ID      Destination    Region Tourist Type  Rating Price Range  \\\n",
              "0     1           Munnar   Central       Family     4.5      Medium   \n",
              "1     2        Alappuzha  Southern         Solo     4.7        High   \n",
              "2     3          Kovalam  Southern       Family     4.2        High   \n",
              "3     4          Wayanad   Central    Adventure     4.6      Medium   \n",
              "4     5         Thekkady   Central       Family     4.3      Medium   \n",
              "..  ...              ...       ...          ...     ...         ...   \n",
              "95   96          Punalur  Southern         Solo     4.4         Low   \n",
              "96   97       Nanda Devi   Central       Family     4.1         Low   \n",
              "97   98         Aranmula   Central       Family     4.8        High   \n",
              "98   99      Perumbavoor  Northern         Solo     4.3      Medium   \n",
              "99  100  Vazhachal Falls  Northern    Adventure     4.5      Medium   \n",
              "\n",
              "   Accessibility Best Season Popularity recommendation  \n",
              "0            Yes      Winter       High    Not Advised  \n",
              "1            Yes      Winter       High    Not Advised  \n",
              "2            Yes      Winter     Medium    Not Advised  \n",
              "3            Yes     Monsoon       High    Not Advised  \n",
              "4            Yes      Winter     Medium    Not Advised  \n",
              "..           ...         ...        ...            ...  \n",
              "95           Yes      Winter     Medium    Not Advised  \n",
              "96           Yes     Monsoon        Low    Not Advised  \n",
              "97           Yes      Winter       High    Not Advised  \n",
              "98           Yes      Winter        Low    Not Advised  \n",
              "99           Yes     Monsoon     Medium    Not Advised  \n",
              "\n",
              "[100 rows x 10 columns]>"
            ]
          },
          "execution_count": 22,
          "metadata": {},
          "output_type": "execute_result"
        }
      ],
      "source": [
        "df.info"
      ]
    },
    {
      "cell_type": "code",
      "execution_count": null,
      "metadata": {
        "id": "bUfVFBiaBRhE"
      },
      "outputs": [],
      "source": [
        "from sklearn.preprocessing import LabelEncoder\n",
        "le=LabelEncoder()\n",
        "# Apply label encoding to ordinal categories\n",
        "df[\"Price Range\"] = le.fit_transform(df[\"Price Range\"])  # Low:0, Medium:1, High:2\n",
        "df[\"Popularity\"] = le.fit_transform(df[\"Popularity\"])    # Low:0, Medium:1, High:2\n",
        "df[\"Accessibility\"] = le.fit_transform(df[\"Accessibility\"])  # No:0, Yes:1\n",
        "df[\"recommendation\"] = le.fit_transform(df[\"recommendation\"])\n"
      ]
    },
    {
      "cell_type": "code",
      "execution_count": null,
      "metadata": {
        "id": "P2kbonWlBRhE"
      },
      "outputs": [],
      "source": [
        "df = pd.get_dummies(df, columns=[\"Region\", \"Tourist Type\", \"Best Season\"])\n"
      ]
    },
    {
      "cell_type": "code",
      "execution_count": null,
      "metadata": {
        "id": "13-uD_woBRhE"
      },
      "outputs": [],
      "source": [
        "df.drop(['Destination'],axis=1,inplace=True)"
      ]
    },
    {
      "cell_type": "code",
      "execution_count": null,
      "metadata": {
        "id": "Yr-v_HLQBRhE"
      },
      "outputs": [],
      "source": [
        "df.drop(['ID'],axis=1,inplace=True)"
      ]
    },
    {
      "cell_type": "code",
      "execution_count": null,
      "metadata": {
        "id": "rInZ9XqCBRhF"
      },
      "outputs": [],
      "source": [
        "x=df.iloc[:,:-1].values"
      ]
    },
    {
      "cell_type": "code",
      "execution_count": null,
      "metadata": {
        "id": "mQYbqiGkBRhF"
      },
      "outputs": [],
      "source": [
        "y=df.iloc[:,-1].values"
      ]
    },
    {
      "cell_type": "code",
      "execution_count": null,
      "metadata": {
        "id": "VQdn9nTRBRhF"
      },
      "outputs": [],
      "source": [
        "from sklearn.model_selection import train_test_split\n",
        "xtest,xtrain,ytest,ytrain=train_test_split(x,y,test_size=.30,random_state=1)\n"
      ]
    },
    {
      "cell_type": "code",
      "execution_count": null,
      "metadata": {
        "id": "WP3beKR4BRhF"
      },
      "outputs": [],
      "source": [
        "from sklearn.preprocessing import StandardScaler\n",
        "scaler=StandardScaler()\n",
        "scaler.fit(xtrain)\n",
        "xtrain=scaler.transform(xtrain)\n",
        "xtest=scaler.transform(xtest)"
      ]
    },
    {
      "cell_type": "code",
      "execution_count": null,
      "metadata": {
        "id": "w3E08rjhBRhF"
      },
      "outputs": [],
      "source": [
        "from sklearn.neighbors import KNeighborsClassifier\n",
        "model=KNeighborsClassifier(n_neighbors=10)\n",
        "model.fit(xtrain,ytrain)\n",
        "p=model.predict(xtest)"
      ]
    },
    {
      "cell_type": "code",
      "execution_count": null,
      "metadata": {
        "id": "quoXvhU6BRhF",
        "outputId": "b3d9f538-e996-4a0e-9224-36a012791db7"
      },
      "outputs": [
        {
          "data": {
            "text/plain": [
              "array([ True, False,  True,  True,  True,  True,  True, False, False,\n",
              "        True,  True, False,  True,  True, False,  True,  True,  True,\n",
              "        True,  True, False,  True,  True,  True,  True, False,  True,\n",
              "        True, False,  True,  True,  True,  True,  True,  True, False,\n",
              "        True,  True,  True,  True,  True,  True,  True, False,  True,\n",
              "        True, False,  True,  True,  True, False,  True,  True,  True,\n",
              "        True,  True,  True,  True,  True,  True,  True,  True,  True,\n",
              "       False,  True,  True, False,  True,  True,  True])"
            ]
          },
          "execution_count": 32,
          "metadata": {},
          "output_type": "execute_result"
        }
      ],
      "source": [
        "p"
      ]
    },
    {
      "cell_type": "code",
      "execution_count": null,
      "metadata": {
        "id": "49LaJzp_BRhF",
        "outputId": "ea03b374-eea8-4621-eabe-3cb3aa4cddf9"
      },
      "outputs": [
        {
          "data": {
            "text/plain": [
              "array([[14,  0],\n",
              "       [ 7, 49]], dtype=int64)"
            ]
          },
          "execution_count": 33,
          "metadata": {},
          "output_type": "execute_result"
        }
      ],
      "source": [
        "from sklearn.metrics import confusion_matrix\n",
        "cm=confusion_matrix(p,ytest)\n",
        "cm"
      ]
    },
    {
      "cell_type": "code",
      "execution_count": null,
      "metadata": {
        "id": "L4URsv13BRhF",
        "outputId": "d320ea75-cbcc-4254-d329-dc69fd5024d8"
      },
      "outputs": [
        {
          "data": {
            "text/plain": [
              "0.9"
            ]
          },
          "execution_count": 34,
          "metadata": {},
          "output_type": "execute_result"
        }
      ],
      "source": [
        "from sklearn.metrics import accuracy_score\n",
        "acc=accuracy_score(p,ytest)\n",
        "acc"
      ]
    }
  ],
  "metadata": {
    "kernelspec": {
      "display_name": "Python 3",
      "language": "python",
      "name": "python3"
    },
    "language_info": {
      "codemirror_mode": {
        "name": "ipython",
        "version": 3
      },
      "file_extension": ".py",
      "mimetype": "text/x-python",
      "name": "python",
      "nbconvert_exporter": "python",
      "pygments_lexer": "ipython3",
      "version": "3.12.4"
    },
    "colab": {
      "provenance": [],
      "toc_visible": true,
      "include_colab_link": true
    }
  },
  "nbformat": 4,
  "nbformat_minor": 0
}